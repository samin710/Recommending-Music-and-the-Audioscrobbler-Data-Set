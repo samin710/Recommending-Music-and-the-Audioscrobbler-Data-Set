{
  "cells": [
    {
      "cell_type": "code",
      "execution_count": null,
      "metadata": {
        "id": "Zss3JGoN21fI"
      },
      "outputs": [],
      "source": [
        "!apt-get install openjdk-8-jdk-headless -qq > /dev/null\n",
        "\n",
        "# Install Spark (change the version number if needed)\n",
        "!wget -q https://archive.apache.org/dist/spark/spark-3.0.3/spark-3.0.3-bin-hadoop3.2.tgz\n",
        "\n",
        "# Unzip the Spark file to the current folder\n",
        "!tar xf spark-3.0.3-bin-hadoop3.2.tgz\n",
        "\n",
        "# Install findspark\n",
        "!pip install -q findspark\n",
        "\n",
        "# Set environment variables\n",
        "import os\n",
        "os.environ[\"JAVA_HOME\"] = \"/usr/lib/jvm/java-8-openjdk-amd64\"\n",
        "os.environ[\"SPARK_HOME\"] = \"/content/spark-3.0.3-bin-hadoop3.2\"\n",
        "\n",
        "# Start a SparkSession\n",
        "import findspark\n",
        "findspark.init()\n",
        "\n",
        "# Import SparkSession\n",
        "from pyspark.sql import SparkSession\n",
        "\n",
        "# Initialize SparkSession\n",
        "spark = SparkSession.builder.master(\"local[*]\").getOrCreate()\n",
        "sc = spark.sparkContext"
      ]
    },
    {
      "cell_type": "code",
      "execution_count": null,
      "metadata": {
        "colab": {
          "base_uri": "https://localhost:8080/"
        },
        "id": "NIfeXupv3EuJ",
        "outputId": "bcd177ef-f481-4b29-f593-3ed546d95658"
      },
      "outputs": [
        {
          "output_type": "stream",
          "name": "stdout",
          "text": [
            "Drive already mounted at /content/drive; to attempt to forcibly remount, call drive.mount(\"/content/drive\", force_remount=True).\n"
          ]
        }
      ],
      "source": [
        "from google.colab import drive\n",
        "drive.mount('/content/drive')"
      ]
    },
    {
      "cell_type": "code",
      "execution_count": null,
      "metadata": {
        "id": "lCFtFo9t3GyS"
      },
      "outputs": [],
      "source": [
        "def parser(s, delimeters=\" \", to_int=None):\n",
        "    s = s.split(delimeters)\n",
        "    if to_int:\n",
        "        return tuple([int(s[i]) if i in to_int else s[i] for i in range(len(s))])\n",
        "    return tuple(s)\n",
        "artistData = sc.textFile(\"/content/drive/MyDrive/DA_Project/artist_data_small.txt\").map(lambda x: parser(x,'\\t',[0]))\n",
        "artistAlias = sc.textFile(\"/content/drive/MyDrive/DA_Project/artist_alias_small.txt\").map(lambda x: parser(x,'\\t', [0,1]))\n",
        "artistAliasMap = artistAlias.collectAsMap()\n",
        "userArtistData = sc.textFile(\"/content/drive/MyDrive/DA_Project/user_artist_data_small.txt\").map(lambda x: parser(x,' ',[0,1,2]))\n",
        "userArtistData = userArtistData.map(lambda x: (x[0], artistAliasMap.get(x[1], x[1]), x[2]))\n"
      ]
    },
    {
      "cell_type": "code",
      "execution_count": null,
      "metadata": {
        "colab": {
          "base_uri": "https://localhost:8080/"
        },
        "id": "3N-mQGl77vEl",
        "outputId": "938e909d-8a3f-4e41-a0f6-ffcba052d0b3"
      },
      "outputs": [
        {
          "data": {
            "text/plain": [
              "[(1059637, 1000010, 238),\n",
              " (1059637, 1000049, 1),\n",
              " (1059637, 1000056, 1),\n",
              " (1059637, 1000062, 11),\n",
              " (1059637, 1000094, 1)]"
            ]
          },
          "execution_count": 23,
          "metadata": {},
          "output_type": "execute_result"
        }
      ],
      "source": [
        "userArtistData.take(5)"
      ]
    },
    {
      "cell_type": "code",
      "execution_count": null,
      "metadata": {
        "colab": {
          "base_uri": "https://localhost:8080/"
        },
        "id": "MndKgPzL-wcr",
        "outputId": "cddf5617-25d6-4576-f1ff-a403976a5635"
      },
      "outputs": [
        {
          "data": {
            "text/plain": [
              "[(1027859, 1252408),\n",
              " (1017615, 668),\n",
              " (6745885, 1268522),\n",
              " (1018110, 1018110),\n",
              " (1014609, 1014609)]"
            ]
          },
          "execution_count": 33,
          "metadata": {},
          "output_type": "execute_result"
        }
      ],
      "source": [
        "artistAlias.take(5)"
      ]
    },
    {
      "cell_type": "code",
      "execution_count": null,
      "metadata": {
        "colab": {
          "base_uri": "https://localhost:8080/"
        },
        "collapsed": true,
        "id": "X913D1l879Q-",
        "outputId": "799d94a0-cbcd-410a-8cc8-b09d1ba6ce49"
      },
      "outputs": [
        {
          "data": {
            "text/plain": [
              "{1027859: 1252408,\n",
              " 1017615: 668,\n",
              " 6745885: 1268522,\n",
              " 1018110: 1018110,\n",
              " 1014609: 1014609,\n",
              " 6713071: 2976,\n",
              " 1014175: 1014175,\n",
              " 1008798: 1008798,\n",
              " 1013851: 1013851,\n",
              " 6696814: 1030672,\n",
              " 1036747: 1239516,\n",
              " 1278781: 1021980,\n",
              " 2035175: 1007565,\n",
              " 1327067: 1308328,\n",
              " 2006482: 1140837,\n",
              " 1314530: 1237371,\n",
              " 1160800: 1345290,\n",
              " 1255401: 1055061,\n",
              " 1307351: 1055061,\n",
              " 1234249: 1005225,\n",
              " 6622310: 1094137,\n",
              " 1261919: 6977528,\n",
              " 2103190: 1002909,\n",
              " 9929875: 1009048,\n",
              " 2118737: 1011363,\n",
              " 9929864: 1000699,\n",
              " 6666813: 1305683,\n",
              " 1172822: 1127113,\n",
              " 2026635: 1001597,\n",
              " 6726078: 1018408,\n",
              " 1039896: 1277013,\n",
              " 1239168: 1266817,\n",
              " 6819291: 1277876,\n",
              " 2030690: 2060894,\n",
              " 6786886: 166,\n",
              " 1051692: 1307569,\n",
              " 1239193: 1012079,\n",
              " 1291581: 78,\n",
              " 6642817: 1010969,\n",
              " 1293171: 1007614,\n",
              " 1070350: 1034635,\n",
              " 6603691: 1279932,\n",
              " 1027851: 1063053,\n",
              " 2060513: 2029258,\n",
              " 1277348: 668,\n",
              " 1253023: 1033862,\n",
              " 1002892: 1002451,\n",
              " 2060435: 1256876,\n",
              " 6612396: 1301739,\n",
              " 1280154: 1021970,\n",
              " 6617155: 1039381,\n",
              " 1006102: 1034635,\n",
              " 6697417: 2013670,\n",
              " 1059007: 2653,\n",
              " 2101386: 2013670,\n",
              " 1098456: 1254644,\n",
              " 6633276: 1013675,\n",
              " 162: 1332522,\n",
              " 1246265: 1010669,\n",
              " 6708991: 1009773,\n",
              " 1000110: 1034635,\n",
              " 1002566: 1034635,\n",
              " 1001864: 1001864,\n",
              " 9929533: 1000088,\n",
              " 1289246: 1023527,\n",
              " 1261152: 1007206,\n",
              " 2113342: 1134530,\n",
              " 1016805: 3195,\n",
              " 1325227: 1246524,\n",
              " 1245064: 1264,\n",
              " 1015753: 1261449,\n",
              " 2164287: 10076841,\n",
              " 1044186: 10076841,\n",
              " 1006661: 1172842,\n",
              " 6639087: 974,\n",
              " 1028218: 1349406,\n",
              " 9928967: 15,\n",
              " 1269139: 1003505,\n",
              " 2150015: 1018408,\n",
              " 6611952: 1269012,\n",
              " 2134206: 1062330,\n",
              " 6893915: 1017065,\n",
              " 10345702: 1017065,\n",
              " 6880926: 1017065,\n",
              " 6873763: 1259700,\n",
              " 1231677: 1294194,\n",
              " 1333467: 1156425,\n",
              " 1169681: 1651,\n",
              " 1106289: 2093800,\n",
              " 6634844: 1018408,\n",
              " 2111668: 2085,\n",
              " 1038666: 1295935,\n",
              " 10112808: 3437,\n",
              " 9928973: 1000113,\n",
              " 10203303: 6618355,\n",
              " 1279723: 1007263,\n",
              " 1022552: 1249851,\n",
              " 2279441: 6834637,\n",
              " 1214254: 1262045,\n",
              " 1011272: 1246839,\n",
              " 10021668: 1250233,\n",
              " 6648707: 1088328,\n",
              " 1002139: 1018807,\n",
              " 1040536: 2073100,\n",
              " 1050544: 1002332,\n",
              " 6852428: 1035970,\n",
              " 1318457: 1002152,\n",
              " 1010410: 1013654,\n",
              " 1273591: 1598,\n",
              " 2144935: 1066433,\n",
              " 1000935: 6747938,\n",
              " 6603035: 1314538,\n",
              " 2073427: 1006475,\n",
              " 1305679: 1034635,\n",
              " 6723001: 2039323,\n",
              " 6612338: 1257158,\n",
              " 15: 15,\n",
              " 6843840: 1326,\n",
              " 1140506: 1271441,\n",
              " 1097968: 1004831,\n",
              " 9929045: 153,\n",
              " 1265244: 3122,\n",
              " 1010155: 1252957,\n",
              " 1246508: 1013471,\n",
              " 6666470: 1349406,\n",
              " 10328673: 1956,\n",
              " 3630: 6951848,\n",
              " 9919424: 234,\n",
              " 10013648: 733,\n",
              " 1185593: 1028908,\n",
              " 1030955: 5452,\n",
              " 1101433: 1755,\n",
              " 6979261: 1008583,\n",
              " 1199139: 166,\n",
              " 9929269: 1238242,\n",
              " 1323083: 1029530,\n",
              " 6652651: 1009454,\n",
              " 2684: 1002480,\n",
              " 1266264: 1286358,\n",
              " 1299041: 1034635,\n",
              " 10107676: 118,\n",
              " 6843503: 1257158,\n",
              " 10140618: 28,\n",
              " 1210088: 1104179,\n",
              " 6640761: 1254011,\n",
              " 1010284: 1018807,\n",
              " 1260442: 2060894,\n",
              " 1027472: 2036,\n",
              " 2085035: 1000236,\n",
              " 1156068: 1001859,\n",
              " 1211487: 1014738,\n",
              " 1123801: 1034202,\n",
              " 9929763: 1003778,\n",
              " 1327730: 6705745,\n",
              " 1016673: 1298111,\n",
              " 9910959: 1034635,\n",
              " 6644630: 1065358,\n",
              " 1146111: 1000123,\n",
              " 9929062: 1010646,\n",
              " 6666050: 1294194,\n",
              " 1104667: 1012935,\n",
              " 6747304: 4538,\n",
              " 1262727: 2176737,\n",
              " 9931068: 1003361,\n",
              " 1024502: 1009571,\n",
              " 6777696: 1047693,\n",
              " 1047140: 1277286,\n",
              " 1329111: 1023485,\n",
              " 1010145: 1249657,\n",
              " 1321574: 71,\n",
              " 1004857: 1034635,\n",
              " 2112240: 1246983,\n",
              " 1304801: 1307569,\n",
              " 10328618: 2814,\n",
              " 10227482: 1000200,\n",
              " 1341684: 71,\n",
              " 2036732: 71,\n",
              " 2034497: 71,\n",
              " 1338466: 71,\n",
              " 1351048: 71,\n",
              " 1339315: 71,\n",
              " 1009443: 1020059,\n",
              " 6927588: 1107395,\n",
              " 6755702: 1014604,\n",
              " 1037848: 1007201,\n",
              " 1321035: 1007201,\n",
              " 1051861: 1056268,\n",
              " 2066585: 1178346,\n",
              " 1003979: 1247540,\n",
              " 6606624: 1034635,\n",
              " 1210850: 2101375,\n",
              " 2154067: 1279924,\n",
              " 1292006: 1279924,\n",
              " 1100499: 1003448,\n",
              " 1159075: 1002152,\n",
              " 1016988: 1009571,\n",
              " 1300745: 5841,\n",
              " 6868142: 6866886,\n",
              " 1018155: 1015852,\n",
              " 6638483: 1195889,\n",
              " 1011730: 1239504,\n",
              " 1009499: 6730533,\n",
              " 1014145: 1009646,\n",
              " 1212985: 1301739,\n",
              " 9929600: 1004129,\n",
              " 1280087: 1295531,\n",
              " 6704224: 9964755,\n",
              " 1071257: 1236897,\n",
              " 1060739: 1263049,\n",
              " 6645431: 1013510,\n",
              " 1126370: 2114258,\n",
              " 10328567: 1000689,\n",
              " 9997128: 4303,\n",
              " 1214221: 1021115,\n",
              " 6752624: 684,\n",
              " 6843863: 1326,\n",
              " 10163001: 4775,\n",
              " 1244701: 1249401,\n",
              " 1330987: 1056296,\n",
              " 1038051: 6684730,\n",
              " 1007834: 1237371,\n",
              " 1293474: 1006885,\n",
              " 2099786: 2048617,\n",
              " 1302130: 1291109,\n",
              " 6738758: 2106357,\n",
              " 9929441: 1307,\n",
              " 1013011: 1276641,\n",
              " 6623536: 9916985,\n",
              " 6606825: 1014175,\n",
              " 2017616: 1007864,\n",
              " 1291230: 1236346,\n",
              " 1286507: 1137423,\n",
              " 6935408: 4349,\n",
              " 6689505: 1001655,\n",
              " 1023449: 1310185,\n",
              " 2009180: 6751847,\n",
              " 1109974: 1007063,\n",
              " 10079136: 1002328,\n",
              " 1099602: 2966,\n",
              " 1015298: 1247152,\n",
              " 9931148: 1006896,\n",
              " 6666533: 1253307,\n",
              " 6667192: 1086117,\n",
              " 1080914: 1274829,\n",
              " 1003801: 1241757,\n",
              " 1049704: 1261464,\n",
              " 10092575: 1000028,\n",
              " 1334929: 1246709,\n",
              " 1291110: 1030060,\n",
              " 1055562: 1276662,\n",
              " 1090594: 1009633,\n",
              " 1252764: 1003014,\n",
              " 2058402: 1024619,\n",
              " 1029677: 9983203,\n",
              " 6671271: 1033631,\n",
              " 1327919: 9983203,\n",
              " 6827946: 9983203,\n",
              " 1270553: 1327696,\n",
              " 1000945: 1018807,\n",
              " 6786145: 300,\n",
              " 6614668: 7006467,\n",
              " 10331634: 1000048,\n",
              " 9912102: 1034635,\n",
              " 1065198: 2061677,\n",
              " 1351750: 1233610,\n",
              " 1307528: 2036704,\n",
              " 1012315: 1238836,\n",
              " 1314904: 6977528,\n",
              " 1053693: 1170206,\n",
              " 1287055: 1020615,\n",
              " 7023179: 5696,\n",
              " 6963887: 1013095,\n",
              " 1252485: 1010725,\n",
              " 1079065: 1236703,\n",
              " 1027126: 1255783,\n",
              " 1274317: 1234387,\n",
              " 1012803: 2161899,\n",
              " 6666213: 3554,\n",
              " 1298276: 6875510,\n",
              " 1234344: 1012125,\n",
              " 10055114: 2051723,\n",
              " 10377598: 1010055,\n",
              " 1033104: 1027610,\n",
              " 2179213: 1111915,\n",
              " 6730134: 1271216,\n",
              " 1301746: 1056258,\n",
              " 1017322: 1277866,\n",
              " 1045804: 1247516,\n",
              " 1152469: 1009402,\n",
              " 2140188: 10334513,\n",
              " 1291960: 1266817,\n",
              " 2059804: 1008487,\n",
              " 6708740: 1089337,\n",
              " 1101793: 1044253,\n",
              " 1047491: 1003342,\n",
              " 1049384: 1008336,\n",
              " 1059884: 1288727,\n",
              " 6873850: 1300642,\n",
              " 2067429: 1034635,\n",
              " 2069589: 1234503,\n",
              " 10237528: 1235384,\n",
              " 1027009: 2004228,\n",
              " 6751850: 2070071,\n",
              " 6607841: 1015122,\n",
              " 6606625: 1034635,\n",
              " 1052722: 2797,\n",
              " 6688903: 6706174,\n",
              " 6892355: 6785079,\n",
              " 6618608: 6785079,\n",
              " 1019819: 1034635,\n",
              " 9929669: 1004347,\n",
              " 6606757: 1003888,\n",
              " 2140558: 2114264,\n",
              " 6730231: 2161931,\n",
              " 1075482: 1264703,\n",
              " 2064333: 1076507,\n",
              " 1022108: 1035334,\n",
              " 6759209: 1241695,\n",
              " 1008416: 242,\n",
              " 10263339: 1008093,\n",
              " 1276810: 420,\n",
              " 6622876: 2161595,\n",
              " 6670816: 2051861,\n",
              " 1254235: 1254644,\n",
              " 1305341: 1010658,\n",
              " 1039314: 1203762,\n",
              " 9919711: 9956508,\n",
              " 2082135: 1259297,\n",
              " 6635073: 1259297,\n",
              " 1300796: 2036,\n",
              " 6619918: 2140107,\n",
              " 1258892: 1244746,\n",
              " 6662497: 1327588,\n",
              " 6882695: 1013167,\n",
              " 1245000: 1028445,\n",
              " 5702: 1066440,\n",
              " 1007480: 1012243,\n",
              " 1244982: 1028445,\n",
              " 1122437: 1254299,\n",
              " 2075188: 10150610,\n",
              " 1073470: 1327647,\n",
              " 10270142: 10096874,\n",
              " 9954151: 779,\n",
              " 1275001: 1028445,\n",
              " 1244994: 1028445,\n",
              " 1122824: 2148043,\n",
              " 1084265: 1065358,\n",
              " 2140580: 1002672,\n",
              " 2070673: 1169482,\n",
              " 1010636: 1239101,\n",
              " 1031417: 1265996,\n",
              " 1033536: 1008824,\n",
              " 1006162: 1048788,\n",
              " 1179492: 1246136,\n",
              " 2113453: 1003052,\n",
              " 2052613: 1088572,\n",
              " 1279110: 2035089,\n",
              " 10314684: 6716462,\n",
              " 1042508: 1008824,\n",
              " 10176206: 1014716,\n",
              " 6657341: 10361613,\n",
              " 1283015: 1001230,\n",
              " 1289264: 1013714,\n",
              " 1033391: 1239278,\n",
              " 2082602: 1043147,\n",
              " 1052982: 1011231,\n",
              " 2036251: 2043827,\n",
              " 2020235: 1246136,\n",
              " 1271924: 1018769,\n",
              " 1039828: 1018807,\n",
              " 1039174: 1075543,\n",
              " 9918754: 4497,\n",
              " 1235697: 1233982,\n",
              " 1244970: 1028445,\n",
              " 6843877: 1326,\n",
              " 1115653: 1249252,\n",
              " 1127341: 1252111,\n",
              " 1012852: 6696725,\n",
              " 1130370: 2235,\n",
              " 1245134: 1007263,\n",
              " 1036143: 1063053,\n",
              " 6790420: 2129177,\n",
              " 1263808: 2070227,\n",
              " 6620802: 4377,\n",
              " 1181082: 1009583,\n",
              " 1203592: 1156425,\n",
              " 1024571: 1029592,\n",
              " 1029799: 1156425,\n",
              " 1016343: 1014340,\n",
              " 754: 754,\n",
              " 1016631: 1006736,\n",
              " 1138014: 1034635,\n",
              " 1002778: 393,\n",
              " 1253088: 1238269,\n",
              " 6933178: 809,\n",
              " 1011293: 1489,\n",
              " 6965760: 1027610,\n",
              " 1010760: 1239516,\n",
              " 1006322: 1006322,\n",
              " 1006347: 1006347,\n",
              " 1058622: 1251812,\n",
              " 6742353: 2104058,\n",
              " 6718488: 1059264,\n",
              " 1281865: 1011316,\n",
              " 1006140: 1246817,\n",
              " 1015584: 1007658,\n",
              " 9919044: 2007,\n",
              " 9937566: 809,\n",
              " 9937520: 1147975,\n",
              " 1275359: 1287322,\n",
              " 2061602: 6748393,\n",
              " 6642370: 1049114,\n",
              " 1010872: 2439,\n",
              " 2126687: 1023928,\n",
              " 9930422: 1002619,\n",
              " 1000129: 5810,\n",
              " 1092585: 1002559,\n",
              " 1303182: 6837566,\n",
              " 10586534: 1008953,\n",
              " 1017671: 1015311,\n",
              " 1025954: 2040456,\n",
              " 1271505: 1003694,\n",
              " 1322886: 2105178,\n",
              " 6895260: 1308328,\n",
              " 1278418: 1255555,\n",
              " 1340193: 2797,\n",
              " 2155515: 1003105,\n",
              " 1022439: 4609,\n",
              " 6632852: 1001835,\n",
              " 2100392: 1012457,\n",
              " 1108824: 1007415,\n",
              " 9929214: 1233948,\n",
              " 6703817: 1006812,\n",
              " 1007631: 1235753,\n",
              " 1039492: 1269417,\n",
              " 6926874: 1014485,\n",
              " 1002498: 3066,\n",
              " 1097119: 1016561,\n",
              " 1008455: 1020,\n",
              " 1286284: 5630,\n",
              " 1266371: 1236703,\n",
              " 6779861: 1250104,\n",
              " 2025676: 1001141,\n",
              " 1023217: 2076786,\n",
              " 1011160: 1238478,\n",
              " 1340980: 1000602,\n",
              " 1006268: 1002392,\n",
              " 1197558: 1001943,\n",
              " 1340959: 1000602,\n",
              " 6677859: 670,\n",
              " 2066701: 1063426,\n",
              " 1327070: 1341919,\n",
              " 10050528: 831,\n",
              " 1015209: 1167955,\n",
              " 1192222: 1025647,\n",
              " 1020004: 1025647,\n",
              " 6814996: 1002912,\n",
              " 1086572: 1233677,\n",
              " 1138325: 2023771,\n",
              " 1139033: 1011219,\n",
              " 1050349: 1043653,\n",
              " 4421: 1252779,\n",
              " 6703227: 1210979,\n",
              " 1070459: 2064199,\n",
              " 709: 2003588,\n",
              " 6843892: 1012077,\n",
              " 1012388: 1254487,\n",
              " 6625714: 1060179,\n",
              " 6901494: 1006485,\n",
              " 6806131: 1002061,\n",
              " 1284393: 887,\n",
              " 1023197: 1269447,\n",
              " 6604494: 6834637,\n",
              " 2131963: 1020,\n",
              " 10504380: 1070177,\n",
              " 2279509: 1322366,\n",
              " 1002670: 1034635,\n",
              " 1143149: 1093353,\n",
              " 6934479: 1256115,\n",
              " 9947015: 1292207,\n",
              " 2147002: 10077841,\n",
              " 1278109: 1036654,\n",
              " 9929574: 1008086,\n",
              " 1061384: 1252912,\n",
              " 6935936: 3016,\n",
              " 2159997: 1003313,\n",
              " 1044729: 1046148,\n",
              " 1067417: 1003694,\n",
              " 1270359: 1019163,\n",
              " 1102968: 1233982,\n",
              " 1030009: 1791,\n",
              " 6766073: 1006837,\n",
              " 1026989: 1033119,\n",
              " 1267504: 1007885,\n",
              " 1134651: 659,\n",
              " 1006146: 1031646,\n",
              " 1157380: 1018266,\n",
              " 1047433: 1054273,\n",
              " 6895364: 2153903,\n",
              " 6812143: 1017092,\n",
              " 1104448: 1008824,\n",
              " 1246003: 4185,\n",
              " 1255551: 1266817,\n",
              " 1326264: 1235663,\n",
              " 2164170: 1247118,\n",
              " 6923988: 2140107,\n",
              " 6606823: 1267774,\n",
              " 10198357: 1025721,\n",
              " 10014536: 1009583,\n",
              " 1038011: 718,\n",
              " 9952803: 1156794,\n",
              " 1248351: 1007614,\n",
              " 1293301: 1001307,\n",
              " 1033265: 1136358,\n",
              " 9967716: 1015426,\n",
              " 1106946: 1006039,\n",
              " 1233934: 1234700,\n",
              " 6704508: 1006919,\n",
              " 6804942: 6676351,\n",
              " 2025457: 951,\n",
              " 1112427: 1080556,\n",
              " 1089486: 1090808,\n",
              " 1139806: 1039249,\n",
              " 1006788: 1003221,\n",
              " 6677618: 1028295,\n",
              " 2166168: 2025147,\n",
              " 1059441: 1039249,\n",
              " 2164352: 6922812,\n",
              " 6607809: 1034635,\n",
              " 2008447: 1034635,\n",
              " 1028259: 1237408,\n",
              " 1257324: 1240486,\n",
              " 1129917: 1039249,\n",
              " 2162103: 3195,\n",
              " 6827283: 3195,\n",
              " 6835354: 1039381,\n",
              " 2031207: 2031502,\n",
              " 1022183: 938,\n",
              " 1067365: 1003694,\n",
              " 1344818: 1331984,\n",
              " 2008155: 1007801,\n",
              " 1011370: 1246174,\n",
              " 1089639: 1003694,\n",
              " 1023269: 1253188,\n",
              " 1033184: 1006320,\n",
              " 6801236: 1013362,\n",
              " 1130780: 1319532,\n",
              " 6793156: 1319489,\n",
              " 1240531: 1078983,\n",
              " 1005489: 2003588,\n",
              " 1116245: 1003556,\n",
              " 6621334: 1012031,\n",
              " 1059744: 1254973,\n",
              " 1079120: 1000655,\n",
              " 6972279: 1000985,\n",
              " 6985668: 6992655,\n",
              " 1078613: 2017,\n",
              " 1234308: 59,\n",
              " 9929753: 1007347,\n",
              " 1009440: 1003272,\n",
              " 10383606: 1319489,\n",
              " 10713370: 1084235,\n",
              " 10713436: 6611448,\n",
              " 1022947: 6951566,\n",
              " 1197153: 1018406,\n",
              " 1145243: 2115937,\n",
              " 1008020: 1277876,\n",
              " 1006577: 1261516,\n",
              " 1007949: 1045811,\n",
              " 1241896: 1045811,\n",
              " 6818610: 1233623,\n",
              " 6703268: 1260159,\n",
              " 6843530: 1260159,\n",
              " 9974891: 1260159,\n",
              " 1033242: 1000655,\n",
              " 2159316: 1034635,\n",
              " 1289361: 1262825,\n",
              " 6679381: 1027349,\n",
              " 6827288: 1238056,\n",
              " 1312285: 1039017,\n",
              " 1012932: 1234727,\n",
              " 1071225: 1027595,\n",
              " 1070722: 930,\n",
              " 1110471: 1007075,\n",
              " 10052696: 1116214,\n",
              " 1063100: 1057539,\n",
              " 1208053: 1060179}"
            ]
          },
          "execution_count": 27,
          "metadata": {},
          "output_type": "execute_result"
        }
      ],
      "source": [
        "artistAliasMap"
      ]
    },
    {
      "cell_type": "code",
      "execution_count": null,
      "metadata": {
        "colab": {
          "base_uri": "https://localhost:8080/"
        },
        "id": "O2zTAe1n8R_U",
        "outputId": "7f1f6655-dce8-4bff-ebb5-185aff0502f2"
      },
      "outputs": [
        {
          "data": {
            "text/plain": [
              "[(1240105, 'André Visior'),\n",
              " (1240113, 'riow arai'),\n",
              " (1240132, 'Outkast & Rage Against the Machine'),\n",
              " (6776115, '小松正夫'),\n",
              " (1030848, \"Raver's Nature\")]"
            ]
          },
          "execution_count": 28,
          "metadata": {},
          "output_type": "execute_result"
        }
      ],
      "source": [
        "artistData.take(5)"
      ]
    },
    {
      "cell_type": "code",
      "execution_count": null,
      "metadata": {
        "colab": {
          "base_uri": "https://localhost:8080/"
        },
        "id": "bh4exewy89lN",
        "outputId": "628fed6b-3b68-4a58-f1e7-c8cc08e1ae18"
      },
      "outputs": [
        {
          "name": "stdout",
          "output_type": "stream",
          "text": [
            "User with maximum plays: 1024631 with 6188 plays\n",
            "User with minimum plays: 2064012 with 58 plays\n",
            "Artist with maximum plays: 1034635 with 43 plays\n",
            "Artist with minimum plays: 1009140 with 1 plays\n"
          ]
        }
      ],
      "source": [
        "user_counts = userArtistData.map(lambda x: (x[0], 1)).reduceByKey(lambda a, b: a + b)\n",
        "\n",
        "artist_counts = userArtistData.map(lambda x: (x[1], 1)).reduceByKey(lambda a, b: a + b)\n",
        "\n",
        "max_user = user_counts.max(key=lambda x: x[1])\n",
        "min_user = user_counts.min(key=lambda x: x[1])\n",
        "\n",
        "max_artist = artist_counts.max(key=lambda x: x[1])\n",
        "min_artist = artist_counts.min(key=lambda x: x[1])\n",
        "\n",
        "print(f\"User with maximum plays: {max_user[0]} with {max_user[1]} plays\")\n",
        "print(f\"User with minimum plays: {min_user[0]} with {min_user[1]} plays\")\n",
        "print(f\"Artist with maximum plays: {max_artist[0]} with {max_artist[1]} plays\")\n",
        "print(f\"Artist with minimum plays: {min_artist[0]} with {min_artist[1]} plays\")"
      ]
    },
    {
      "cell_type": "code",
      "execution_count": null,
      "metadata": {
        "colab": {
          "base_uri": "https://localhost:8080/"
        },
        "id": "LfN40S9M918b",
        "outputId": "34bebae0-2e51-4eae-9681-b33853cc2c91"
      },
      "outputs": [
        {
          "name": "stdout",
          "output_type": "stream",
          "text": [
            "Minimum user ID: 1000647\n",
            "Maximum user ID: 2288164\n",
            "Minimum artist ID: 1\n",
            "Maximum artist ID: 10788218\n"
          ]
        }
      ],
      "source": [
        "users = userArtistData.map(lambda x: x[0])\n",
        "artists = userArtistData.map(lambda x: x[1])\n",
        "\n",
        "min_user = users.reduce(lambda a, b: a if a < b else b)\n",
        "max_user = users.reduce(lambda a, b: a if a > b else b)\n",
        "\n",
        "min_artist = artists.reduce(lambda a, b: a if a < b else b)\n",
        "max_artist = artists.reduce(lambda a, b: a if a > b else b)\n",
        "\n",
        "print(f\"Minimum user ID: {min_user}\")\n",
        "print(f\"Maximum user ID: {max_user}\")\n",
        "print(f\"Minimum artist ID: {min_artist}\")\n",
        "print(f\"Maximum artist ID: {max_artist}\")"
      ]
    },
    {
      "cell_type": "code",
      "execution_count": null,
      "metadata": {
        "colab": {
          "base_uri": "https://localhost:8080/"
        },
        "id": "xZQ4VgWK5aBv",
        "outputId": "8f1d010b-882c-448f-cb11-5abf355684b4"
      },
      "outputs": [
        {
          "name": "stdout",
          "output_type": "stream",
          "text": [
            "User 1059637 has a total play count of 674412 and a mean play count of 1879.\n",
            "User 2064012 has a total play count of 548427 and a mean play count of 9456.\n",
            "User 2069337 has a total play count of 393515 and a mean play count of 1519.\n"
          ]
        }
      ],
      "source": [
        "def summary(user_id):\n",
        "    play_list = userArtistData.filter(lambda x: x[0] == user_id).map(lambda x: (x[1], x[2])).collect()\n",
        "    if play_list:\n",
        "        total = sum(x[1] for x in play_list)\n",
        "        mean = round(total / len(play_list))\n",
        "        print(\"User %s has a total play count of %s and a mean play count of %s.\" % (user_id, total, mean))\n",
        "    else:\n",
        "        print(\"User %s has no play data.\" % user_id)\n",
        "\n",
        "summary(1059637)\n",
        "summary(2064012)\n",
        "summary(2069337)"
      ]
    },
    {
      "cell_type": "code",
      "execution_count": null,
      "metadata": {
        "colab": {
          "base_uri": "https://localhost:8080/"
        },
        "id": "QkM1eWqz5rIe",
        "outputId": "7cc1849a-653a-47c2-b234-cc8178614e63"
      },
      "outputs": [
        {
          "name": "stdout",
          "output_type": "stream",
          "text": [
            "Training Data Count: 19769\n",
            "Validation Data Count: 19690\n",
            "Test Data Count: 10022\n"
          ]
        }
      ],
      "source": [
        "trainingData, validationData, testData = userArtistData.randomSplit([0.4, 0.4, 0.2], seed=13)\n",
        "\n",
        "trainingData.cache()\n",
        "validationData.cache()\n",
        "testData.cache()\n",
        "\n",
        "print(\"Training Data Count:\", trainingData.count())\n",
        "print(\"Validation Data Count:\", validationData.count())\n",
        "print(\"Test Data Count:\", testData.count())"
      ]
    },
    {
      "cell_type": "code",
      "execution_count": null,
      "metadata": {
        "id": "kdRX_c7i6C-l"
      },
      "outputs": [],
      "source": [
        "from pyspark.mllib.recommendation import ALS, MatrixFactorizationModel, Rating\n",
        "\n",
        "def cal_score(predict, actual):\n",
        "    if len(actual) < len(predict):\n",
        "#         print \"here\"\n",
        "        predict = predict[0:len(actual)]\n",
        "    return len(list(set(predict) & set(actual)))*1.0/len(actual)\n",
        "\n",
        "def modelEval(model, dataset):\n",
        "    # Find the list of all artists in the whole data set\n",
        "    all_artists = userArtistData.map(lambda x: x[1]).distinct().collect()\n",
        "    # Find the users in the input dataset\n",
        "    test_user = dataset.map(lambda p: p[0]).distinct().collect()\n",
        "    # Find the artists each user listened to in the training set and generate the test data\n",
        "    global trainingData\n",
        "    testdata = trainingData.filter(lambda x: x[0] in test_user).map(lambda x: (x[0], x[1])).groupByKey()\n",
        "    testdata = testdata.map(lambda x: (x[0], list(x[1])))\n",
        "    testdata = testdata.flatMap(lambda x: [(x[0],a) for a in all_artists if a not in x[1]])\n",
        "    # Find the artists each user listened to in the input dataset\n",
        "    testdata_actual = dataset.map(lambda x: (x[0], x[1])).groupByKey().map(lambda x: (x[0], list(x[1]))).collectAsMap()\n",
        "    predictions = model.predictAll(testdata).map(lambda x: (x[0], (x[1], x[2])))\n",
        "    predictions = predictions.groupByKey().map(lambda x: (x[0], sorted(list(x[1]), key=lambda y: y[1], reverse=True)))\n",
        "    predictions = predictions.map(lambda x: (x[0], cal_score([y[0] for y in x[1]], testdata_actual[x[0]])))\n",
        "    return predictions.map(lambda x:x[1]).reduce(lambda x, y: x+ y) * 1.0 / len(test_user)"
      ]
    },
    {
      "cell_type": "code",
      "execution_count": null,
      "metadata": {
        "colab": {
          "base_uri": "https://localhost:8080/"
        },
        "id": "1NQ8XAYl6H62",
        "outputId": "3d54f48d-2a7b-4ec9-a0ea-6027bcf7bbd1"
      },
      "outputs": [
        {
          "name": "stdout",
          "output_type": "stream",
          "text": [
            "The model score for rank 2 is 0.08641798321304396\n",
            "The model score for rank 10 is 0.09606525904245533\n",
            "The model score for rank 20 is 0.08511878890016106\n"
          ]
        }
      ],
      "source": [
        "training = trainingData.map(lambda x: Rating(int(x[0]), int(x[1]), float(x[2])))\n",
        "for r in [2, 10, 20]:\n",
        "    model = ALS.trainImplicit(training, rank = r, seed=345)\n",
        "    print(\"The model score for rank %s is %s\" % (r, modelEval(model, validationData)))"
      ]
    },
    {
      "cell_type": "code",
      "execution_count": null,
      "metadata": {
        "colab": {
          "base_uri": "https://localhost:8080/"
        },
        "id": "YaOgvJcg7HR2",
        "outputId": "cd41fc0c-75bf-498c-8801-2296a8a6c77b"
      },
      "outputs": [
        {
          "name": "stdout",
          "output_type": "stream",
          "text": [
            "0.062383739358596715\n"
          ]
        }
      ],
      "source": [
        "bestModel = ALS.trainImplicit(training, rank=10, seed=345)\n",
        "print (modelEval(bestModel, testData))"
      ]
    },
    {
      "cell_type": "code",
      "execution_count": null,
      "metadata": {
        "colab": {
          "base_uri": "https://localhost:8080/"
        },
        "id": "4MH8b4p062Ee",
        "outputId": "f5a48a6c-0d73-458e-d3ac-11497f42d849"
      },
      "outputs": [
        {
          "name": "stdout",
          "output_type": "stream",
          "text": [
            "Artist 0: Something Corporate\n",
            "Artist 1: My Chemical Romance\n",
            "Artist 2: Further Seems Forever\n",
            "Artist 3: Taking Back Sunday\n",
            "Artist 4: Brand New\n",
            "Artist 5: U2\n",
            "Artist 6: Modest Mouse\n",
            "Artist 7: Alkaline Trio\n",
            "Artist 8: Underoath\n",
            "Artist 9: Green Day\n"
          ]
        }
      ],
      "source": [
        "recommended = map(lambda x: x.product, bestModel.recommendProducts(1059637, 10))\n",
        "for i, artist in enumerate(recommended):\n",
        "    print (\"Artist %s: %s\" % (i, artistData.lookup(artist)[0],))"
      ]
    },
    {
      "cell_type": "markdown",
      "metadata": {
        "id": "2Zher9nXDRKH"
      },
      "source": [
        "# New DNN  "
      ]
    },
    {
      "cell_type": "code",
      "execution_count": null,
      "metadata": {
        "id": "0PkOmED3DYNt"
      },
      "outputs": [],
      "source": [
        "import pandas as pd\n",
        "import numpy as np\n",
        "from pyspark.sql import SparkSession\n",
        "from pyspark.sql.functions import col, lit, regexp_replace\n",
        "from pyspark.ml.feature import StringIndexer"
      ]
    },
    {
      "cell_type": "code",
      "source": [
        "# Load the dataset without specifying headers\n",
        "user_artist_df = spark.read.option(\"delimiter\", \"\\t\").csv(\"/content/drive/MyDrive/DA_Project/user_artist_data_small.txt\", header=False)\n",
        "\n",
        "# Show the raw output\n",
        "user_artist_df.show(truncate=False)\n",
        "\n"
      ],
      "metadata": {
        "colab": {
          "base_uri": "https://localhost:8080/"
        },
        "id": "iMr44A0laM7q",
        "outputId": "87588c29-c280-48fc-c032-7d868e9750e3"
      },
      "execution_count": null,
      "outputs": [
        {
          "output_type": "stream",
          "name": "stdout",
          "text": [
            "+---------------------+\n",
            "|_c0                  |\n",
            "+---------------------+\n",
            "|1059637 1000010 238  |\n",
            "|1059637 1000049 1    |\n",
            "|1059637 1000056 1    |\n",
            "|1059637 1000062 11   |\n",
            "|1059637 1000094 1    |\n",
            "|1059637 1000112 423  |\n",
            "|1059637 1000113 5    |\n",
            "|1059637 1000114 2    |\n",
            "|1059637 1000123 2    |\n",
            "|1059637 1000130 19129|\n",
            "|1059637 1000139 4    |\n",
            "|1059637 1000241 188  |\n",
            "|1059637 1000263 180  |\n",
            "|1059637 1000289 2    |\n",
            "|1059637 1000305 1    |\n",
            "|1059637 1000320 21   |\n",
            "|1059637 1000340 1    |\n",
            "|1059637 1000427 20   |\n",
            "|1059637 1000428 12   |\n",
            "|1059637 1000433 10   |\n",
            "+---------------------+\n",
            "only showing top 20 rows\n",
            "\n"
          ]
        }
      ]
    },
    {
      "cell_type": "code",
      "source": [
        "from pyspark.sql import functions as F\n",
        "\n",
        "# Load the dataset without headers\n",
        "user_artist_df = spark.read.option(\"delimiter\", \"\\t\").csv(\"/content/drive/MyDrive/DA_Project/user_artist_data_small.txt\", header=False)\n",
        "\n",
        "# Show the raw DataFrame\n",
        "user_artist_df.show(truncate=False)\n",
        "\n",
        "# Split the single column into three columns using a regex to handle spaces\n",
        "user_artist_df = user_artist_df.select(\n",
        "    F.split(col(\"_c0\"), \" \").getItem(0).alias(\"userId\"),\n",
        "    F.split(col(\"_c0\"), \" \").getItem(1).alias(\"artistId\"),\n",
        "    F.split(col(\"_c0\"), \" \").getItem(2).alias(\"count\")\n",
        ")\n",
        "\n",
        "# Show the cleaned DataFrame\n",
        "user_artist_df.show(truncate=False)\n"
      ],
      "metadata": {
        "colab": {
          "base_uri": "https://localhost:8080/"
        },
        "id": "1ca4eTUobQUZ",
        "outputId": "2d663b99-cd27-43a2-aef2-4ecc7655576b"
      },
      "execution_count": null,
      "outputs": [
        {
          "output_type": "stream",
          "name": "stdout",
          "text": [
            "+---------------------+\n",
            "|_c0                  |\n",
            "+---------------------+\n",
            "|1059637 1000010 238  |\n",
            "|1059637 1000049 1    |\n",
            "|1059637 1000056 1    |\n",
            "|1059637 1000062 11   |\n",
            "|1059637 1000094 1    |\n",
            "|1059637 1000112 423  |\n",
            "|1059637 1000113 5    |\n",
            "|1059637 1000114 2    |\n",
            "|1059637 1000123 2    |\n",
            "|1059637 1000130 19129|\n",
            "|1059637 1000139 4    |\n",
            "|1059637 1000241 188  |\n",
            "|1059637 1000263 180  |\n",
            "|1059637 1000289 2    |\n",
            "|1059637 1000305 1    |\n",
            "|1059637 1000320 21   |\n",
            "|1059637 1000340 1    |\n",
            "|1059637 1000427 20   |\n",
            "|1059637 1000428 12   |\n",
            "|1059637 1000433 10   |\n",
            "+---------------------+\n",
            "only showing top 20 rows\n",
            "\n",
            "+-------+--------+-----+\n",
            "|userId |artistId|count|\n",
            "+-------+--------+-----+\n",
            "|1059637|1000010 |238  |\n",
            "|1059637|1000049 |1    |\n",
            "|1059637|1000056 |1    |\n",
            "|1059637|1000062 |11   |\n",
            "|1059637|1000094 |1    |\n",
            "|1059637|1000112 |423  |\n",
            "|1059637|1000113 |5    |\n",
            "|1059637|1000114 |2    |\n",
            "|1059637|1000123 |2    |\n",
            "|1059637|1000130 |19129|\n",
            "|1059637|1000139 |4    |\n",
            "|1059637|1000241 |188  |\n",
            "|1059637|1000263 |180  |\n",
            "|1059637|1000289 |2    |\n",
            "|1059637|1000305 |1    |\n",
            "|1059637|1000320 |21   |\n",
            "|1059637|1000340 |1    |\n",
            "|1059637|1000427 |20   |\n",
            "|1059637|1000428 |12   |\n",
            "|1059637|1000433 |10   |\n",
            "+-------+--------+-----+\n",
            "only showing top 20 rows\n",
            "\n"
          ]
        }
      ]
    },
    {
      "cell_type": "code",
      "execution_count": null,
      "metadata": {
        "id": "IaAdHHGpDbyV"
      },
      "outputs": [],
      "source": [
        "# user_artist_df = spark.read.option(\"delimiter\", \"\\t\").csv(\"/content/drive/MyDrive/DA_Project/user_artist_data_small.txt\", inferSchema=True)\n",
        "artist_data_df = spark.read.option(\"delimiter\", \"\\t\").csv(\"/content/drive/MyDrive/DA_Project/artist_data_small.txt\", inferSchema=True)\n",
        "artist_alias_df = spark.read.option(\"delimiter\", \"\\t\").csv(\"/content/drive/MyDrive/DA_Project/artist_alias_small.txt\", inferSchema=True)"
      ]
    },
    {
      "cell_type": "code",
      "source": [
        "user_artist_df.show(5)"
      ],
      "metadata": {
        "colab": {
          "base_uri": "https://localhost:8080/"
        },
        "id": "RigKAkfXY4Gi",
        "outputId": "49a6a4e7-7235-4a7f-9084-0a60847411b9"
      },
      "execution_count": null,
      "outputs": [
        {
          "output_type": "stream",
          "name": "stdout",
          "text": [
            "+-------+--------+-----+\n",
            "| userId|artistId|count|\n",
            "+-------+--------+-----+\n",
            "|1059637| 1000010|  238|\n",
            "|1059637| 1000049|    1|\n",
            "|1059637| 1000056|    1|\n",
            "|1059637| 1000062|   11|\n",
            "|1059637| 1000094|    1|\n",
            "+-------+--------+-----+\n",
            "only showing top 5 rows\n",
            "\n"
          ]
        }
      ]
    },
    {
      "cell_type": "code",
      "execution_count": null,
      "metadata": {
        "id": "fF5Tt0bPDg9U"
      },
      "outputs": [],
      "source": [
        "# Rename columns\n",
        "user_artist_df = user_artist_df.withColumnRenamed(\"_c0\", \"userId\").withColumnRenamed(\"_c1\", \"artistId\").withColumnRenamed(\"_c2\", \"count\")\n",
        "artist_data_df = artist_data_df.withColumnRenamed(\"_c0\", \"artistId\").withColumnRenamed(\"_c1\", \"artistName\")\n",
        "artist_alias_df = artist_alias_df.withColumnRenamed(\"_c0\", \"wrongArtistId\").withColumnRenamed(\"_c1\", \"correctArtistId\")"
      ]
    },
    {
      "cell_type": "code",
      "source": [
        "user_artist_df.show(5)"
      ],
      "metadata": {
        "collapsed": true,
        "colab": {
          "base_uri": "https://localhost:8080/"
        },
        "id": "yss0C_mbYmMQ",
        "outputId": "91efee80-94aa-4dfb-e8d7-32861c06f9b8"
      },
      "execution_count": null,
      "outputs": [
        {
          "output_type": "stream",
          "name": "stdout",
          "text": [
            "+-------+--------+-----+\n",
            "| userId|artistId|count|\n",
            "+-------+--------+-----+\n",
            "|1059637| 1000010|  238|\n",
            "|1059637| 1000049|    1|\n",
            "|1059637| 1000056|    1|\n",
            "|1059637| 1000062|   11|\n",
            "|1059637| 1000094|    1|\n",
            "+-------+--------+-----+\n",
            "only showing top 5 rows\n",
            "\n"
          ]
        }
      ]
    },
    {
      "cell_type": "code",
      "execution_count": null,
      "metadata": {
        "id": "hEHRh1Q_DlEP"
      },
      "outputs": [],
      "source": [
        "# Correct artist IDs using aliases\n",
        "\n",
        "artist_alias_df = artist_alias_df.select(\"wrongArtistId\", \"correctArtistId\").distinct()\n",
        "user_artist_df = user_artist_df.join(artist_alias_df, user_artist_df.artistId == artist_alias_df.wrongArtistId, \"left\")\n",
        "user_artist_df = user_artist_df.withColumn(\"artistId\",\n",
        "                                           when(col(\"correctArtistId\").isNotNull(), col(\"correctArtistId\"))\n",
        "                                           .otherwise(col(\"artistId\")))\n",
        "user_artist_df = user_artist_df.drop(\"wrongArtistId\", \"correctArtistId\")"
      ]
    },
    {
      "cell_type": "code",
      "execution_count": null,
      "metadata": {
        "id": "JnlNYp6XDoPd"
      },
      "outputs": [],
      "source": [
        "# Indexing user and artist IDs\n",
        "indexer_user = StringIndexer(inputCol=\"userId\", outputCol=\"userIndex\")\n",
        "indexer_artist = StringIndexer(inputCol=\"artistId\", outputCol=\"artistIndex\")\n",
        "\n",
        "user_artist_df = indexer_user.fit(user_artist_df).transform(user_artist_df)\n",
        "user_artist_df = indexer_artist.fit(user_artist_df).transform(user_artist_df)"
      ]
    },
    {
      "cell_type": "code",
      "execution_count": null,
      "metadata": {
        "id": "zEV9uAFIDvga"
      },
      "outputs": [],
      "source": [
        "# Convert to Pandas for Keras\n",
        "user_artist_pd = user_artist_df.select(\"userIndex\", \"artistIndex\", \"count\").toPandas()"
      ]
    },
    {
      "cell_type": "code",
      "execution_count": null,
      "metadata": {
        "id": "Q9ZE1OtFDyB3"
      },
      "outputs": [],
      "source": [
        "import tensorflow as tf\n",
        "from tensorflow.keras.models import Model\n",
        "from tensorflow.keras.layers import Input, Embedding, Flatten, Dense, Concatenate"
      ]
    },
    {
      "cell_type": "code",
      "execution_count": null,
      "metadata": {
        "id": "A7eGDzNJD2Yd"
      },
      "outputs": [],
      "source": [
        "# Parameters\n",
        "num_users = user_artist_pd.userIndex.nunique()\n",
        "num_artists = user_artist_pd.artistIndex.nunique()\n",
        "embedding_dim = 50"
      ]
    },
    {
      "cell_type": "code",
      "execution_count": null,
      "metadata": {
        "id": "sIo6-WufD4Ht"
      },
      "outputs": [],
      "source": [
        "# Input layers\n",
        "user_input = Input(shape=(1,))\n",
        "artist_input = Input(shape=(1,))"
      ]
    },
    {
      "cell_type": "code",
      "execution_count": null,
      "metadata": {
        "id": "qoqYn6fLD-Kl"
      },
      "outputs": [],
      "source": [
        "# Embedding layers\n",
        "user_embedding = Embedding(input_dim=num_users, output_dim=embedding_dim)(user_input)\n",
        "artist_embedding = Embedding(input_dim=num_artists, output_dim=embedding_dim)(artist_input)"
      ]
    },
    {
      "cell_type": "code",
      "execution_count": null,
      "metadata": {
        "id": "VB9loQzoEBD9"
      },
      "outputs": [],
      "source": [
        "# Flatten the embeddings\n",
        "user_vecs = Flatten()(user_embedding)\n",
        "artist_vecs = Flatten()(artist_embedding)"
      ]
    },
    {
      "cell_type": "code",
      "execution_count": null,
      "metadata": {
        "id": "1esvVXnDEDVl"
      },
      "outputs": [],
      "source": [
        "# Concatenate and feed into dense layers\n",
        "concat = Concatenate()([user_vecs, artist_vecs])\n",
        "dense1 = Dense(128, activation='relu')(concat)\n",
        "dense2 = Dense(64, activation='relu')(dense1)\n",
        "output = Dense(1)(dense2)"
      ]
    },
    {
      "cell_type": "code",
      "execution_count": null,
      "metadata": {
        "id": "EUqjG85WEFOt"
      },
      "outputs": [],
      "source": [
        "# Build and compile model\n",
        "model = Model(inputs=[user_input, artist_input], outputs=output)\n",
        "model.compile(optimizer='adam', loss='mean_squared_error')"
      ]
    },
    {
      "cell_type": "code",
      "source": [
        "print(user_artist_pd.head())  # Show the first few rows\n",
        "print(user_artist_pd.columns)  # Check the column names\n"
      ],
      "metadata": {
        "colab": {
          "base_uri": "https://localhost:8080/"
        },
        "id": "z7nzHAJgcRYi",
        "outputId": "9f46ce58-51ab-48da-9756-6ebbce989043"
      },
      "execution_count": null,
      "outputs": [
        {
          "output_type": "stream",
          "name": "stdout",
          "text": [
            "   userIndex  artistIndex count\n",
            "0       28.0        126.0   238\n",
            "1       28.0       6645.0     1\n",
            "2       28.0        188.0     1\n",
            "3       28.0         15.0    11\n",
            "4       28.0        158.0     1\n",
            "Index(['userIndex', 'artistIndex', 'count'], dtype='object')\n"
          ]
        }
      ]
    },
    {
      "cell_type": "code",
      "execution_count": null,
      "metadata": {
        "id": "LkMeOyWeEIw1"
      },
      "outputs": [],
      "source": [
        "# Prepare data for training\n",
        "X_train = [user_artist_pd['userIndex'].values, user_artist_pd['artistIndex'].values]\n",
        "y_train = user_artist_pd['count'].values  # Use the correct syntax for accessing the column"
      ]
    },
    {
      "cell_type": "code",
      "source": [
        "import numpy as np\n",
        "\n",
        "# Ensure the types are correct\n",
        "X_train = [np.array(user_artist_pd['userIndex'].values), np.array(user_artist_pd['artistIndex'].values)]\n",
        "y_train = np.array(user_artist_pd['count'].values).astype(np.float32)  # Ensure y_train is float\n"
      ],
      "metadata": {
        "id": "WQ2zaUzidIVo"
      },
      "execution_count": null,
      "outputs": []
    },
    {
      "cell_type": "code",
      "execution_count": null,
      "metadata": {
        "id": "_9qpYqXEENAN",
        "colab": {
          "base_uri": "https://localhost:8080/"
        },
        "outputId": "47dd2430-7634-4a1a-bd80-ea6d85827a45"
      },
      "outputs": [
        {
          "output_type": "stream",
          "name": "stdout",
          "text": [
            "Epoch 1/20\n",
            "\u001b[1m1392/1392\u001b[0m \u001b[32m━━━━━━━━━━━━━━━━━━━━\u001b[0m\u001b[37m\u001b[0m \u001b[1m18s\u001b[0m 13ms/step - loss: 7851947.5000 - val_loss: 1286834.7500\n",
            "Epoch 2/20\n",
            "\u001b[1m1392/1392\u001b[0m \u001b[32m━━━━━━━━━━━━━━━━━━━━\u001b[0m\u001b[37m\u001b[0m \u001b[1m22s\u001b[0m 14ms/step - loss: 9125813.0000 - val_loss: 2159249.2500\n",
            "Epoch 3/20\n",
            "\u001b[1m1392/1392\u001b[0m \u001b[32m━━━━━━━━━━━━━━━━━━━━\u001b[0m\u001b[37m\u001b[0m \u001b[1m18s\u001b[0m 13ms/step - loss: 8656953.0000 - val_loss: 3409608.5000\n",
            "Epoch 4/20\n",
            "\u001b[1m1392/1392\u001b[0m \u001b[32m━━━━━━━━━━━━━━━━━━━━\u001b[0m\u001b[37m\u001b[0m \u001b[1m20s\u001b[0m 12ms/step - loss: 6083223.0000 - val_loss: 5287687.5000\n",
            "Epoch 5/20\n",
            "\u001b[1m1392/1392\u001b[0m \u001b[32m━━━━━━━━━━━━━━━━━━━━\u001b[0m\u001b[37m\u001b[0m \u001b[1m18s\u001b[0m 13ms/step - loss: 1642142.0000 - val_loss: 8229981.5000\n",
            "Epoch 6/20\n",
            "\u001b[1m1392/1392\u001b[0m \u001b[32m━━━━━━━━━━━━━━━━━━━━\u001b[0m\u001b[37m\u001b[0m \u001b[1m21s\u001b[0m 13ms/step - loss: 7587679.5000 - val_loss: 11664659.0000\n",
            "Epoch 7/20\n",
            "\u001b[1m1392/1392\u001b[0m \u001b[32m━━━━━━━━━━━━━━━━━━━━\u001b[0m\u001b[37m\u001b[0m \u001b[1m20s\u001b[0m 13ms/step - loss: 4769869.5000 - val_loss: 16314344.0000\n",
            "Epoch 8/20\n",
            "\u001b[1m1392/1392\u001b[0m \u001b[32m━━━━━━━━━━━━━━━━━━━━\u001b[0m\u001b[37m\u001b[0m \u001b[1m19s\u001b[0m 14ms/step - loss: 6128316.0000 - val_loss: 21657496.0000\n",
            "Epoch 9/20\n",
            "\u001b[1m1392/1392\u001b[0m \u001b[32m━━━━━━━━━━━━━━━━━━━━\u001b[0m\u001b[37m\u001b[0m \u001b[1m19s\u001b[0m 13ms/step - loss: 4079378.2500 - val_loss: 30634428.0000\n",
            "Epoch 10/20\n",
            "\u001b[1m1392/1392\u001b[0m \u001b[32m━━━━━━━━━━━━━━━━━━━━\u001b[0m\u001b[37m\u001b[0m \u001b[1m20s\u001b[0m 13ms/step - loss: 4724403.0000 - val_loss: 40566928.0000\n",
            "Epoch 11/20\n",
            "\u001b[1m1392/1392\u001b[0m \u001b[32m━━━━━━━━━━━━━━━━━━━━\u001b[0m\u001b[37m\u001b[0m \u001b[1m22s\u001b[0m 14ms/step - loss: 6213641.5000 - val_loss: 49288828.0000\n",
            "Epoch 12/20\n",
            "\u001b[1m1392/1392\u001b[0m \u001b[32m━━━━━━━━━━━━━━━━━━━━\u001b[0m\u001b[37m\u001b[0m \u001b[1m19s\u001b[0m 13ms/step - loss: 5717229.0000 - val_loss: 61667812.0000\n",
            "Epoch 13/20\n",
            "\u001b[1m1392/1392\u001b[0m \u001b[32m━━━━━━━━━━━━━━━━━━━━\u001b[0m\u001b[37m\u001b[0m \u001b[1m19s\u001b[0m 13ms/step - loss: 7907016.0000 - val_loss: 74399056.0000\n",
            "Epoch 14/20\n",
            "\u001b[1m1392/1392\u001b[0m \u001b[32m━━━━━━━━━━━━━━━━━━━━\u001b[0m\u001b[37m\u001b[0m \u001b[1m20s\u001b[0m 14ms/step - loss: 5615139.5000 - val_loss: 94920512.0000\n",
            "Epoch 15/20\n",
            "\u001b[1m1392/1392\u001b[0m \u001b[32m━━━━━━━━━━━━━━━━━━━━\u001b[0m\u001b[37m\u001b[0m \u001b[1m21s\u001b[0m 15ms/step - loss: 8220103.0000 - val_loss: 108393688.0000\n",
            "Epoch 16/20\n",
            "\u001b[1m1392/1392\u001b[0m \u001b[32m━━━━━━━━━━━━━━━━━━━━\u001b[0m\u001b[37m\u001b[0m \u001b[1m39s\u001b[0m 13ms/step - loss: 2374654.7500 - val_loss: 140717056.0000\n",
            "Epoch 17/20\n",
            "\u001b[1m1392/1392\u001b[0m \u001b[32m━━━━━━━━━━━━━━━━━━━━\u001b[0m\u001b[37m\u001b[0m \u001b[1m20s\u001b[0m 13ms/step - loss: 3431009.2500 - val_loss: 169188176.0000\n",
            "Epoch 18/20\n",
            "\u001b[1m1392/1392\u001b[0m \u001b[32m━━━━━━━━━━━━━━━━━━━━\u001b[0m\u001b[37m\u001b[0m \u001b[1m21s\u001b[0m 13ms/step - loss: 910213.8125 - val_loss: 202905920.0000\n",
            "Epoch 19/20\n",
            "\u001b[1m1392/1392\u001b[0m \u001b[32m━━━━━━━━━━━━━━━━━━━━\u001b[0m\u001b[37m\u001b[0m \u001b[1m19s\u001b[0m 14ms/step - loss: 1375384.5000 - val_loss: 241033072.0000\n",
            "Epoch 20/20\n",
            "\u001b[1m1392/1392\u001b[0m \u001b[32m━━━━━━━━━━━━━━━━━━━━\u001b[0m\u001b[37m\u001b[0m \u001b[1m19s\u001b[0m 12ms/step - loss: 3011572.7500 - val_loss: 269451136.0000\n"
          ]
        },
        {
          "output_type": "execute_result",
          "data": {
            "text/plain": [
              "<keras.src.callbacks.history.History at 0x7ce06aa62e00>"
            ]
          },
          "metadata": {},
          "execution_count": 59
        }
      ],
      "source": [
        "# Train model\n",
        "model.fit(X_train, y_train, epochs=20, batch_size=32, validation_split=0.1)"
      ]
    },
    {
      "cell_type": "code",
      "execution_count": null,
      "metadata": {
        "id": "3e0lyABJEPoX",
        "colab": {
          "base_uri": "https://localhost:8080/"
        },
        "outputId": "0fcd823e-74c6-4b7e-ae23-3a0737061086"
      },
      "outputs": [
        {
          "output_type": "stream",
          "name": "stdout",
          "text": [
            "\u001b[1m941/941\u001b[0m \u001b[32m━━━━━━━━━━━━━━━━━━━━\u001b[0m\u001b[37m\u001b[0m \u001b[1m1s\u001b[0m 2ms/step\n",
            "Top artist IDs: [ 1028404  2156265  1301407  6658967  1030344 10025967  2001418  1073740\n",
            "  2012490  1169453]\n",
            "       artistId                artistName\n",
            "77     10025967          Southworth, John\n",
            "3464    1301407                    Darlin\n",
            "5323    6658967           Sainte Chapelle\n",
            "6026    1073740             Chuck Carrier\n",
            "8689    2012490  Louir Vega ft Raul Midon\n",
            "10375   2001418                    Me Low\n",
            "17432   2156265            Harwood Agenda\n",
            "23019   1030344                  Mnemonic\n",
            "26650   1028404            Lou Ann Barton\n",
            "28799   1169453                      SHOT\n"
          ]
        }
      ],
      "source": [
        "# Assuming artist_data_df has been indexed properly and contains artistId and artistIndex\n",
        "# Create a mapping from artist indices to artist IDs\n",
        "artist_index_to_id = artist_data_df.select(\"artistId\").toPandas().values.flatten()\n",
        "\n",
        "def recommend_artists(user_id, top_n=10):\n",
        "    # Transform user_id to user_index\n",
        "    user_index = indexer_user_model.transform(spark.createDataFrame([(user_id,)], [\"userId\"])).first().userIndex\n",
        "\n",
        "    artist_indices = np.arange(num_artists)\n",
        "    predictions = model.predict([np.array([user_index]*num_artists), artist_indices])\n",
        "\n",
        "    top_artist_indices = np.argsort(predictions.flatten())[-top_n:]\n",
        "\n",
        "    # Map indices to actual artist IDs\n",
        "    top_artist_ids = artist_index_to_id[top_artist_indices]\n",
        "\n",
        "    # Print the predicted artist IDs\n",
        "    print(\"Top artist IDs:\", top_artist_ids)\n",
        "\n",
        "    artist_names = artist_data_df.select(\"artistId\", \"artistName\").toPandas()\n",
        "\n",
        "    recommended_artists = artist_names[artist_names.artistId.isin(top_artist_ids)]\n",
        "\n",
        "    return recommended_artists\n",
        "\n",
        "# Example usage\n",
        "recommended_artists = recommend_artists(user_id=2069337)\n",
        "print(recommended_artists)"
      ]
    }
  ],
  "metadata": {
    "colab": {
      "provenance": []
    },
    "kernelspec": {
      "display_name": "Python 3",
      "name": "python3"
    },
    "language_info": {
      "name": "python"
    }
  },
  "nbformat": 4,
  "nbformat_minor": 0
}